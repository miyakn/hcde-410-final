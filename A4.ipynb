{
 "cells": [
  {
   "cell_type": "markdown",
   "id": "b4f457f2-bd34-482f-b630-8a8c1de81b4c",
   "metadata": {},
   "source": [
    "# Motivation and Problem Statement\n",
    "In recent years, social media has become a powerful tool in modern marketing to shape consumer behavior with the rising prevalence of influencers, targeted advertisements, and user-generated content on the platforms. I plan on analyzing social media’s influence on consumer spending habits and how these impacts may vary across different demographic groups.\n",
    "\n",
    "This research may help to better understand the psychology behind consumer choices in our digital age which would be useful in a practical sense for businesses and marketers to optimize online marketing strategies. From a human-centered perspective, this analysis can provide insights into how digital environments shape consumer choices, contributing to the conversation of how to design more user-centered marketing practices that consider the well-being of consumers. \n",
    "\n",
    "I hope to learn more about the connections and patterns between consumers and social media stimuli, and identify key factors that drive spending decisions. I also hope this analysis helps in providing a clearer understanding of the complex dynamics between social media engagement and financial decision-making.\n",
    "\n",
    "# Data Selected for Analysis\n",
    "[<u>Impact of Social Media (Dataset)</u>](https://www.kaggle.com/datasets/lastman0800/impact-of-social-media-dataset)\n",
    "* Summary of Data: This dataset is designed to capture various attributes of consumers, including their demographics (age, gender, income, city, education level), social media behavior (usage per day, platforms used, and level of influence), purchasing preferences (product category, brand, amount spend in USD), and the impact of social media on their decision-making process. \n",
    "* Why I’m Using It: This dataset would be helpful in identifying what demographic groups tended to be most influenced by social media in their spending decisions. For example, I can look into how the level of social media presence may influence the amount spent during a purchase..\n",
    "* License: “It can be used for various analyses and studies related to consumer behavior and marketing strategies in the context of social media influence” (note: there was no specific license listed, the only form of licensing was mentioned was in the description of the data, which is quoted here).\n",
    "\n",
    "# Unknowns and Dependencies\n",
    "A factor outside of my control that might impact my ability to complete this project by the end of the quarter is if social media actual does has a statistically significant influence on consumer buying behavior or not."
   ]
  },
  {
   "cell_type": "markdown",
   "id": "4819a7a1-aa5d-4b83-9bc5-d3c0f7dd8340",
   "metadata": {},
   "source": [
    "# Overview and Research Questions\n",
    "The goal of this project is to investigate the relationship between social media and consumer behavior by identifying factors that influence spending decisions and what demographics that influence is strongest with. \n",
    "\n",
    "Research Questions (in no particular order):\n",
    "1. What demographic (age, gender, income, education level, level of social media usage, level of influence on social media, etc.) is most/least affected by social media in purchase decision-making?\n",
    "2. Does the amount of social media platforms a consumer uses impact their spending habits?\n",
    "3. Are there certain categories of products where the consumers’ purchasing decisions are influenced by social media the most?"
   ]
  },
  {
   "cell_type": "markdown",
   "id": "efbf8f39-620a-43e8-9613-13f4f8b842e2",
   "metadata": {},
   "source": [
    "# Background and Related Work\n",
    "Previous research has been performed to investigate the influence of social media on consumer behavior, many of which have reported at least some level of correlation (moderate to strong). Much of this research has been through a marketing lens. Some of this research focused on using social media to predict consumer spending instead of how social media influences spending. For example, research has found how social media data can be a powerful tool in forecasting consumer behavior by identifying purchase intentions expressed in social media posts. [[1](https://publications.aston.ac.uk/id/eprint/38890/1/W17_5212.pdf), [2](https://ojs.aaai.org/index.php/ICWSM/article/view/7322)]. Other research highlights how social media intensity (frequency and duration of time on social media) is a strong mediator in the relationship between materialism and negative consumption, suggesting that higher social media engagement is directly linked to increased impulsive, compulsive, and conspicuous purchasing [[3](https://pmc.ncbi.nlm.nih.gov/articles/PMC9096894/)]. One research paper reported a strong correlation between social media activity and consumer spending patterns of university students in Turkey, suggesting that social media significantly influences young consumers' purchasing decisions [[4](https://dergipark.org.tr/en/pub/ijsshs/issue/26218/276033)].\n",
    "\n",
    "The findings of this research has informed some of the demographic research questions I created for this analysis to better understand not just the relationship between social media and consumers, but the various backgrounds of the consumers themselves. These findings also confirmed some of my own beliefs about social media and consumption, which made me want to explore this topic further on my own and see what patterns arise. "
   ]
  },
  {
   "cell_type": "markdown",
   "id": "e7b44fba-7b66-4b7f-9b61-6fb8320fa661",
   "metadata": {},
   "source": [
    "# Methodology\n",
    "## Analysis\n",
    "The dependent variable of my analysis is if social media influenced a purchase which in this dataset was a binary “yes” or “no” answer from the participant. The independent variables are all categorical instead of continuous (metrical, interval-scale). As a result, I intend to use [chi-quare tests of independence](https://www.jmp.com/en_us/statistics-knowledge-portal/chi-square-test/chi-square-test-of-independence.html) to evaluate the relationship between various demographic variables and consumer decision making. This method determines whether categorical variables are independent or related to each other which is ideal for the dataset I am using due to the categorical nature of the independent variables and the binary nature of the dependent variable.\n",
    "\n",
    "## Presentation of Findings\n",
    "I plan to present my results in tables, calculations, and the output of the calculations (test statistics, chi-square distribution value, etc). This presentation method is appropriate for my analysis because the variables are either binary or categorical, which can be difficult to present graphically. However, bar charts may be an exception as I can show to distribution of, for example, the various income levels on the x-axis and the total number of respondents in each category whose purchases were influenced by social media on the y-axis. This may be beneficial to further understand the dataset and analysis by providing a visual component to the research in addition to tables of text and numbers. "
   ]
  }
 ],
 "metadata": {
  "kernelspec": {
   "display_name": "Python 3 (ipykernel)",
   "language": "python",
   "name": "python3"
  },
  "language_info": {
   "codemirror_mode": {
    "name": "ipython",
    "version": 3
   },
   "file_extension": ".py",
   "mimetype": "text/x-python",
   "name": "python",
   "nbconvert_exporter": "python",
   "pygments_lexer": "ipython3",
   "version": "3.10.13"
  }
 },
 "nbformat": 4,
 "nbformat_minor": 5
}
