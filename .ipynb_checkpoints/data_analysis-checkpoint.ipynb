{
 "cells": [
  {
   "cell_type": "markdown",
   "id": "06ece79b-b15b-421e-bdc0-db9d8b88eb99",
   "metadata": {},
   "source": [
    "# Data Analysis File"
   ]
  },
  {
   "cell_type": "markdown",
   "id": "51eee9a3-b9db-451e-bbdb-9f2ce0a38991",
   "metadata": {},
   "source": [
    "This file contains all the data analysis including all explanations, calculations, and code."
   ]
  },
  {
   "cell_type": "markdown",
   "id": "c1353f2d-e7f2-4c55-bcbb-49db33e7bceb",
   "metadata": {},
   "source": [
    "## Packages Used"
   ]
  },
  {
   "cell_type": "code",
   "execution_count": 221,
   "id": "61e1965f-64a0-4d84-889f-4ba1995b1ec2",
   "metadata": {},
   "outputs": [],
   "source": [
    "import csv\n",
    "import pandas as pd\n",
    "from scipy.stats import chi2_contingency\n",
    "import matplotlib.pyplot as plt\n",
    "import numpy as np\n",
    "from IPython.display import display,HTML\n",
    "from PIL import Image"
   ]
  },
  {
   "cell_type": "markdown",
   "id": "4b26b899-eba2-4f44-9429-ec84745871ce",
   "metadata": {},
   "source": [
    "## Before We Begin...\n",
    "\n",
    "Before we get started on the analysis, there are some terms and conditions I would like to discuss:\n",
    "\n",
    "<u>General Terminology</u>\n",
    "* ``P-value`` = \"the probability of observing the data assuming the null hypothesis is true, helping to determine the strength of the evidence against the null hypothesis\" ([geeksforgeeks](https://www.geeksforgeeks.org/python-pearsons-chi-square-test/)). The closer to 0 the p-value is, the [stronger the evidence against the null hypothesis](https://www.geo.fu-berlin.de/en/v/soga-r/Basics-of-statistics/Hypothesis-Tests/Introduction-to-Hypothesis-Testing/Critical-Value-and-the-p-Value-Approach/index.html#:~:text=The%20smaller%20(closer%20to%200,null%20hypothesis%20is%20not%20rejected.).\n",
    "* ``Null hypothesis`` = \"a general statistical statement or assumption about a population parameter that is assumed to be true Until we have sufficient evidence to reject it. It is generally denoted by Ho\"([geeksforgeeks](https://www.geeksforgeeks.org/python-pearsons-chi-square-test/)).\n",
    "* ``Alternate hypothesis`` = \"considered as competing of the null hypothesis. It is generally denoted by H1 . The general goal of our hypothesis testing is to test the Alternative hypothesis against the null hypothesis\" ([geeksforgeeks](https://www.geeksforgeeks.org/python-pearsons-chi-square-test/)).\n",
    "\n",
    "<u>General Conditions</u>\n",
    "* The ``null hypothesis`` for this study is that there _is no significant relation_ between the given factor and social media's influence on the consumer's purchase.\n",
    "* The ``alternative hypothesis`` for this study is that there _is a significant relation_ between the given factor and social media's influence on the consumer's purchase.\n",
    "* Based on [current practices](https://passel2.unl.edu/view/lesson/9beaa382bf7e/8), I will be using an alpha value of 5.0% ``(p < 0.05)`` to determine if observed deviations are significant.\n",
    "\n",
    "__Chi-Square Test of Independence__\n",
    "\n",
    "<u>Terminology</u>\n",
    "* ``Observed values`` = the actual data in the dataset\n",
    "* ``Expected values`` = the frequencies you'd anticipate seeing in each category if the null hypothesis is true\n",
    "\n",
    "<u>Conditions</u>\n",
    "* [An observed value can be zero](https://www.theanalysisfactor.com/observed-values-less-than-5-in-a-chi-square-test-no-biggie/) as long as the expected value for that cell is not zero. An expected value of zero can lead to undefined calculations.\n",
    "* There must be an [expected value of at least 5](https://www.jmp.com/en_us/statistics-knowledge-portal/chi-square-test/chi-square-test-of-independence.html) for each combination of variables, otherwise the test results are unreliable.\n",
    "* ``Expected values`` are calculated using this [function](https://www.geeksforgeeks.org/python-pearsons-chi-square-test/): (row total * column total) / grand total\n",
    "* If chi-square calculated value > chi-square critical value, then the [null hypothesis is rejected](https://passel2.unl.edu/view/lesson/9beaa382bf7e/8#:~:text=If%20your%20chi%2Dsquare%20calculated,to%20reject%22%20your%20null%20hypothesis.)."
   ]
  },
  {
   "cell_type": "markdown",
   "id": "11ef7e09-9e56-4df1-bd2e-e8c7796410e4",
   "metadata": {},
   "source": [
    "Now let's convert the dataset csv file into a list of dictionaries."
   ]
  },
  {
   "cell_type": "code",
   "execution_count": 222,
   "id": "7776c0e1-6120-4127-9165-ecd5e9ad4cfa",
   "metadata": {},
   "outputs": [
    {
     "name": "stdout",
     "output_type": "stream",
     "text": [
      "{'\\ufeffConsumer ID': '1', 'Customer Name': 'Alice Johnson', 'Age': '28', 'Gender': 'Female', 'Income (USD)': '45000', 'Education Level': \"Bachelor's\", 'Social Media Usage (Hours/Day)': '2.5', 'Social Media Platforms': 'Instagram, Twitter', 'Influence Level': 'Very Influential', 'Purchase Decision': 'Yes', 'Product Category': 'Fashion', 'Specific Product': 'Dress', 'Amount Spent (USD)': '200', 'Brand Name': 'Nike, Zara', 'City': 'New York'}\n"
     ]
    }
   ],
   "source": [
    "consumer_data = []\n",
    "with open('social_media_dataset.csv') as f:\n",
    "    consumer_data = [{k: str(v) for k, v in row.items()}\n",
    "        for row in csv.DictReader(f, skipinitialspace=True)]\n",
    "print(consumer_data[0])"
   ]
  },
  {
   "cell_type": "markdown",
   "id": "e33ff260-b8da-460c-9933-42dd0ef06c10",
   "metadata": {},
   "source": [
    "## Dataset sanity check\n",
    "\n",
    "The data card on Kaggle for this dataset says ``Consumer ID`` is a unique identifier for each consumer. Let's check if that is true. While we do this, let's also check how many consumers are in this dataset."
   ]
  },
  {
   "cell_type": "code",
   "execution_count": 223,
   "id": "51d0f0f1-231a-4417-89e8-2ad851795018",
   "metadata": {},
   "outputs": [],
   "source": [
    "def determine_id_dupes():\n",
    "    set_of_ids = set()\n",
    "    found_a_dupe = False\n",
    "    consumer_total = 0\n",
    "\n",
    "    for consumer in consumer_data:\n",
    "        consumer_total = consumer_total + 1\n",
    "        if consumer['\\ufeffConsumer ID'] in set_of_ids:\n",
    "            found_a_dupe = True\n",
    "        else:\n",
    "            set_of_ids.add(consumer['\\ufeffConsumer ID'])\n",
    "            \n",
    "    return found_a_dupe, consumer_total"
   ]
  },
  {
   "cell_type": "code",
   "execution_count": 224,
   "id": "c48c4c9e-f741-4d76-84fa-67dc98bbef96",
   "metadata": {},
   "outputs": [
    {
     "name": "stdout",
     "output_type": "stream",
     "text": [
      "False\n",
      "300\n"
     ]
    }
   ],
   "source": [
    "# Call determine_id_dupes to check for duplicates of IDs in the list\n",
    "has_dupes, consumer_total = determine_id_dupes()\n",
    "\n",
    "#if this prints 'True', that means we found at least one duplicate ID\n",
    "print(has_dupes)\n",
    "print(consumer_total)"
   ]
  },
  {
   "cell_type": "markdown",
   "id": "a9f2f7d1-1192-4eca-b122-e1da1a06e49f",
   "metadata": {},
   "source": [
    "Good, there are no duplicated IDs and there are 300 consumers in the dataset. With that checked let's move on to the analysis."
   ]
  },
  {
   "cell_type": "markdown",
   "id": "eaebfc52-66b7-453e-a77c-cdc4cb6b7ef9",
   "metadata": {},
   "source": [
    "## RQ1: What demographic is most/least affected by social media in purchase decision-making?\n",
    "\n",
    "What demographic factors are influenced by social media in purchase decision-making?\n",
    "\n",
    "I will be analyzing four different demographic factors:\n",
    "1. Age: age of consumer\n",
    "2. Gender: gender of consumer\n",
    "3. Income: annual income of consumer in USD\n",
    "4. Education level: highest level of education attained by the consumer (e.g., Bachelor's, Master's, PhD, High School)\n",
    "\n",
    "_Note: The factor descriptions are from the dataset's data card on [Kaggle](https://www.kaggle.com/datasets/lastman0800/impact-of-social-media-dataset/data)._"
   ]
  },
  {
   "cell_type": "markdown",
   "id": "19366993-70a6-450b-8808-575410d542fb",
   "metadata": {},
   "source": [
    "### Factor 1: Age"
   ]
  },
  {
   "cell_type": "markdown",
   "id": "6df8c831-df3a-4540-a6c3-7a15df2df10f",
   "metadata": {},
   "source": [
    "* ``Null Hypothesis``: Age and social media's influence on a purchase are independent.\n",
    "* ``Alternative Hypothesis``: Age and social media's influence on a purchase are not independent."
   ]
  },
  {
   "cell_type": "markdown",
   "id": "73d1867b-87f2-400e-996f-4388ec556436",
   "metadata": {},
   "source": [
    "First, I will determine the range of ages present in the dataset."
   ]
  },
  {
   "cell_type": "code",
   "execution_count": 225,
   "id": "a13982ca-9125-4204-934a-b1751079cc85",
   "metadata": {},
   "outputs": [
    {
     "name": "stdout",
     "output_type": "stream",
     "text": [
      "22\n",
      "45\n"
     ]
    }
   ],
   "source": [
    "youngest = 90000 # youngest age of recorded consumers\n",
    "oldest = -1 # oldest age of recorded consumers\n",
    "\n",
    "for consumer in consumer_data:\n",
    "    if int(consumer['Age']) < youngest:\n",
    "        youngest = int(consumer['Age'])\n",
    "    elif int(consumer['Age']) > oldest:\n",
    "        oldest = int(consumer['Age'])\n",
    "    else:\n",
    "        pass\n",
    "\n",
    "print(youngest)\n",
    "print(oldest)"
   ]
  },
  {
   "cell_type": "markdown",
   "id": "70fd1c9a-eb66-4143-8b30-5d53b25523a9",
   "metadata": {},
   "source": [
    "Based on the 22 to 45 age range, I will be grouping the ages in 2 ranges of 11 years (22-33 and 34-45). I will now calculate the totals of each range and how many in each range were influenced or not influenced by social media for a purchase."
   ]
  },
  {
   "cell_type": "code",
   "execution_count": 226,
   "id": "fe9a0ed4-cd35-47e8-9a75-c20ab7cc8b3f",
   "metadata": {},
   "outputs": [],
   "source": [
    "young_influenced = 0 # consumers ages 22-33 whose purchases were influenced by social media\n",
    "young_uninfluenced = 0 # consumers ages 22-33 not influenced by social media\n",
    "\n",
    "old_influenced = 0 # consumers aged 34-45 whose purchases were influenced by social media\n",
    "old_uninfluenced = 0 # consumers aged 34-45 whose purchases were not influenced by social media\n",
    "\n",
    "for consumer in consumer_data:\n",
    "    if int(consumer['Age']) <= 33: # consumer's age is less than or equal to 33\n",
    "        if consumer['Purchase Decision'] == 'Yes':\n",
    "            young_influenced = young_influenced + 1\n",
    "        else:\n",
    "            young_uninfluenced = young_uninfluenced + 1\n",
    "    else: # consumer is older than 33\n",
    "        if consumer['Purchase Decision'] == 'Yes':\n",
    "            old_influenced = old_influenced + 1\n",
    "            old_uninfluenced = old_uninfluenced + 1\n",
    "\n",
    "young_total = young_influenced + young_uninfluenced\n",
    "old_total = old_influenced + old_uninfluenced\n",
    "\n",
    "age_influenced_total = young_influenced + old_influenced\n",
    "age_uninfluenced_total = young_uninfluenced + old_uninfluenced"
   ]
  },
  {
   "cell_type": "code",
   "execution_count": 227,
   "id": "ca68e5e7-61aa-45b3-882c-de9d6feedb1d",
   "metadata": {},
   "outputs": [],
   "source": [
    "with open('observed_age_table.csv', 'w', encoding='utf-8') as f:\n",
    "    writer = csv.writer(f)\n",
    "    \n",
    "    writer.writerow((' ', 'ages 22-33', 'ages 34-45', 'row totals'))\n",
    "    \n",
    "    writer.writerow(('influenced', young_influenced, old_influenced, age_influenced_total))\n",
    "    writer.writerow(('not influenced', young_uninfluenced, old_uninfluenced, age_uninfluenced_total))\n",
    "    writer.writerow(('column totals', young_total, old_total, consumer_total))"
   ]
  },
  {
   "cell_type": "code",
   "execution_count": 228,
   "id": "9fa4519f-a126-4cdb-8241-80209920423c",
   "metadata": {},
   "outputs": [
    {
     "data": {
      "text/html": [
       "<div>\n",
       "<style scoped>\n",
       "    .dataframe tbody tr th:only-of-type {\n",
       "        vertical-align: middle;\n",
       "    }\n",
       "\n",
       "    .dataframe tbody tr th {\n",
       "        vertical-align: top;\n",
       "    }\n",
       "\n",
       "    .dataframe thead th {\n",
       "        text-align: right;\n",
       "    }\n",
       "</style>\n",
       "<table border=\"1\" class=\"dataframe\">\n",
       "  <thead>\n",
       "    <tr style=\"text-align: right;\">\n",
       "      <th></th>\n",
       "      <th></th>\n",
       "      <th>ages 22-33</th>\n",
       "      <th>ages 34-45</th>\n",
       "      <th>row totals</th>\n",
       "    </tr>\n",
       "  </thead>\n",
       "  <tbody>\n",
       "    <tr>\n",
       "      <th>0</th>\n",
       "      <td>influenced</td>\n",
       "      <td>254</td>\n",
       "      <td>32</td>\n",
       "      <td>286</td>\n",
       "    </tr>\n",
       "    <tr>\n",
       "      <th>1</th>\n",
       "      <td>not influenced</td>\n",
       "      <td>14</td>\n",
       "      <td>32</td>\n",
       "      <td>46</td>\n",
       "    </tr>\n",
       "    <tr>\n",
       "      <th>2</th>\n",
       "      <td>column totals</td>\n",
       "      <td>268</td>\n",
       "      <td>64</td>\n",
       "      <td>300</td>\n",
       "    </tr>\n",
       "  </tbody>\n",
       "</table>\n",
       "</div>"
      ],
      "text/plain": [
       "                   ages 22-33  ages 34-45  row totals\n",
       "0      influenced         254          32         286\n",
       "1  not influenced          14          32          46\n",
       "2   column totals         268          64         300"
      ]
     },
     "execution_count": 228,
     "metadata": {},
     "output_type": "execute_result"
    }
   ],
   "source": [
    "observed_age_plot = pd.read_csv('observed_age_table.csv')\n",
    "observed_age_plot"
   ]
  },
  {
   "cell_type": "markdown",
   "id": "b3a1aad8-5dd7-4172-a81d-ca6b4fddb0af",
   "metadata": {},
   "source": [
    "Looking at the row and column totals, there are no combinations where the expected value is less than 5. With that in mind, I will use the chi-square test of independence using the ``chi2_contingency`` function from the ``scipy.stats`` package. "
   ]
  },
  {
   "cell_type": "code",
   "execution_count": 229,
   "id": "f455052a-f7f8-4943-8e80-2256379e88a9",
   "metadata": {},
   "outputs": [
    {
     "name": "stdout",
     "output_type": "stream",
     "text": [
      "chi-square statistic: 83.06954512270663\n",
      "degrees of freedom: 1\n",
      "expected values:[[230.86746988  55.13253012]\n",
      " [ 37.13253012   8.86746988]]\n",
      "p value is 7.921679253072971e-20\n",
      "Dependent (reject H0)\n"
     ]
    }
   ],
   "source": [
    "# defining the table\n",
    "obs_age_data = [[young_influenced, old_influenced], [young_uninfluenced, old_uninfluenced]]\n",
    "\n",
    "# age_test_stat = test statistic aka the chi-square value\n",
    "# age_p_val = p-value of the test\n",
    "# age_dof = degrees of freedom\n",
    "# age_expected_freq = expected frequencies, based on the marginal sums of the table\n",
    "age_test_stat, age_p_val, age_dof, age_expected_freq = chi2_contingency(obs_age_data)\n",
    "\n",
    "# display results\n",
    "print('chi-square statistic: ' + str(age_test_stat))\n",
    "print('degrees of freedom: ' + str(age_dof))\n",
    "print('expected values:' + str(age_expected_freq))\n",
    "\n",
    "# interpret p-value\n",
    "alpha = 0.05\n",
    "print(\"p value is \" + str(age_p_val))\n",
    "if age_p_val <= alpha:\n",
    "    print('Dependent (reject H0)')\n",
    "else:\n",
    "    print('Independent (H0 holds true)')"
   ]
  },
  {
   "cell_type": "markdown",
   "id": "9a640c2a-3abd-4e48-a8b9-ee16ac1a0df4",
   "metadata": {},
   "source": [
    "__Insight from chi-square test__:\n",
    "\n",
    "Since our p-value is less than our alpha (0.05), we reject the null hypothesis that age and social media influence has no significant relation. We can assume the differences between the expected and observed values could not be due to mere chance. "
   ]
  },
  {
   "cell_type": "code",
   "execution_count": 230,
   "id": "4c13a5a5-0692-4205-9cda-03bdde7fbbd2",
   "metadata": {},
   "outputs": [
    {
     "data": {
      "image/png": "[encoded data removed]",
      "text/plain": [
       "<Figure size 1000x600 with 1 Axes>"
      ]
     },
     "metadata": {},
     "output_type": "display_data"
    }
   ],
   "source": [
    "age_combos = ('age 22-33 influenced', 'age 34-45 influenced', 'age 22-33 uninfluenced', 'age 34-45 uninfluenced')\n",
    "age_vals = {\n",
    "    'age_observed_vals': (obs_age_data[0][0], obs_age_data[0][1], obs_age_data[1][0], obs_age_data[1][1]),\n",
    "    'age_expected_vals': (round(age_expected_freq[0][0], 2), round(age_expected_freq[0][1], 2), \n",
    "                          round(age_expected_freq[1][0], 2), round(age_expected_freq[1][1], 2))\n",
    "}\n",
    "\n",
    "\n",
    "x = np.arange(len(age_combos))  # the label locations\n",
    "multiplier = 0\n",
    "\n",
    "barWidth = 0.25\n",
    "fig = plt.subplots(figsize =(10, 6)) \n",
    "\n",
    "for attribute, measurement in age_vals.items():\n",
    "    offset = barWidth * multiplier\n",
    "    rects = plt.bar(x + offset, measurement, barWidth, label=attribute)\n",
    "    plt.bar_label(rects, padding=3)\n",
    "    multiplier += 1\n",
    "\n",
    "# Add some text for labels, title and custom x-axis tick labels, etc.\n",
    "plt.title('Observed vs Expected Values of Age/Social Media Influence Combinations')\n",
    "plt.xlabel('Combination Type', fontweight ='bold', fontsize = 12) \n",
    "plt.ylabel('# of Consumers', fontweight ='bold', fontsize = 12) \n",
    "plt.xticks([r + (barWidth / 2) for r in range(len(age_vals['age_observed_vals']))], \n",
    "        ['age 22-33 influenced', 'age 22-33 uninfluenced', 'age 34-45 influenced', 'age 34-45 uninfluenced'])\n",
    "\n",
    "plt.legend()\n",
    "plt.show()"
   ]
  },
  {
   "cell_type": "markdown",
   "id": "bf7bdd56-1a17-41fc-a301-be50bcdb4fc5",
   "metadata": {},
   "source": [
    "__Insights from observed vs expected values__:\n",
    "* More consumers than expected aged 22-33 completed a purchase influenced by social media.\n",
    "* Fewer consumers than expected aged 22-23 were uninfluenced by social media during their purchase.\n",
    "* Fewer consumers than expected aged 34-45 completed a purchase influenced by social media.\n",
    "* More consumers than expected aged 34-45 were uninfluenced by social media during their purchase."
   ]
  },
  {
   "cell_type": "markdown",
   "id": "17081914-66d7-420d-aa18-0f0d30db9bdd",
   "metadata": {},
   "source": [
    "### Factor 2: Gender"
   ]
  },
  {
   "cell_type": "markdown",
   "id": "b2a0ac56-41da-499d-ab67-1a2b4f9ac5b6",
   "metadata": {},
   "source": [
    "* ``Null Hypothesis``: Gender and social media's influence on a purchase are independent.\n",
    "* ``Alternative Hypothesis``: Gender and social media's influence on a purchase are not independent."
   ]
  },
  {
   "cell_type": "markdown",
   "id": "814f2db2-b84b-4e7f-9522-c02f5121b46d",
   "metadata": {},
   "source": [
    "First, I want to check if there are other genders recorded in the demographic data besides ``male`` and ``female``. That way, I know the different gender labels in the data set."
   ]
  },
  {
   "cell_type": "code",
   "execution_count": 231,
   "id": "a1beef63-0304-4acc-9b44-77ef73c2f55a",
   "metadata": {},
   "outputs": [
    {
     "name": "stdout",
     "output_type": "stream",
     "text": [
      "{'\\ufeffConsumer ID': '3', 'Customer Name': 'Chris Taylor', 'Age': '22', 'Gender': 'Non-binary', 'Income (USD)': '32000', 'Education Level': 'High School', 'Social Media Usage (Hours/Day)': '4', 'Social Media Platforms': 'TikTok, Snapchat', 'Influence Level': 'Not Influential', 'Purchase Decision': 'No', 'Product Category': 'N/A', 'Specific Product': 'N/A', 'Amount Spent (USD)': '0', 'Brand Name': 'N/A', 'City': 'Chicago'}\n"
     ]
    }
   ],
   "source": [
    "# Loop through each consumer in the consumer_data dataset\n",
    "for consumer in consumer_data:\n",
    "    # print out consumer data of person if they do not identify as male or female\n",
    "    if consumer['Gender'].lower() != 'female' and consumer['Gender'].lower() != 'male':\n",
    "        print(consumer) \n",
    "    else:\n",
    "        pass"
   ]
  },
  {
   "cell_type": "markdown",
   "id": "87a8764d-5e73-41cf-9f88-d1c9595d0766",
   "metadata": {},
   "source": [
    "It looks like there is a consumer who identifies as ``non-binary``. Now let's calculate the totals of every combination of male/female/non-binary and influenced/not influenced."
   ]
  },
  {
   "cell_type": "code",
   "execution_count": 232,
   "id": "66d6fa55-d4bd-4278-bd85-909be509ab6a",
   "metadata": {},
   "outputs": [
    {
     "name": "stdout",
     "output_type": "stream",
     "text": [
      "[137, 12, 149, 1, 0, 1]\n"
     ]
    }
   ],
   "source": [
    "# The first two indexes of gender_arr are for female consumers who were influenced by social media (index 0) and \n",
    "# who were not (index 1). The second two indexes are for male consumers who were influenced by social media\n",
    "# (index 2) and who were not (index 3). This pattern continues for the third grouping of nonbinary consumers.\n",
    "gender_observed_arr = [0, 0, 0, 0, 0, 0]\n",
    "\n",
    "for consumer in consumer_data:\n",
    "    if consumer['Gender'].lower() == 'female':\n",
    "        if consumer['Purchase Decision'].lower() == 'yes':\n",
    "            gender_observed_arr[0] = gender_observed_arr[0] + 1\n",
    "        else:\n",
    "            gender_observed_arr[1] = gender_observed_arr[1] + 1\n",
    "    elif consumer['Gender'].lower() == 'male':\n",
    "        if consumer['Purchase Decision'].lower() == 'yes':\n",
    "            gender_observed_arr[2] = gender_observed_arr[2] + 1\n",
    "        else:\n",
    "            gender_observed_arr[3] = gender_observed_arr[3] + 1\n",
    "    else:\n",
    "        if consumer['Purchase Decision'].lower() == 'yes':\n",
    "            gender_observed_arr[4] = gender_observed_arr[4] + 1\n",
    "        else:\n",
    "            gender_observed_arr[5] = gender_observed_arr[5] + 1\n",
    "\n",
    "female_total = gender_observed_arr[0] + gender_observed_arr[1]\n",
    "male_total = gender_observed_arr[2] + gender_observed_arr[3]\n",
    "nonbinary_total = gender_observed_arr[4] + gender_observed_arr[5]\n",
    "\n",
    "gender_influenced_total = gender_observed_arr[0] + gender_observed_arr[2] + gender_observed_arr[4]\n",
    "gender_uninfluenced_total = gender_observed_arr[1] + gender_observed_arr[3] + gender_observed_arr[5]\n",
    "\n",
    "print(gender_observed_arr)"
   ]
  },
  {
   "cell_type": "code",
   "execution_count": 233,
   "id": "d6fc942c-1f21-4e96-9bb6-ddde0542d3c6",
   "metadata": {},
   "outputs": [],
   "source": [
    "with open('observed_gender_table.csv', 'w', encoding='utf-8') as f:\n",
    "    writer = csv.writer(f)\n",
    "    \n",
    "    writer.writerow(('female', 'male', 'non-binary', 'row totals'))\n",
    "    \n",
    "    writer.writerow(('influenced', gender_observed_arr[0], gender_observed_arr[2], gender_observed_arr[4], gender_influenced_total))\n",
    "    writer.writerow(('not influenced', gender_observed_arr[1], gender_observed_arr[3], gender_observed_arr[5], gender_uninfluenced_total))\n",
    "    writer.writerow(('column totals', female_total, male_total, nonbinary_total, consumer_total))"
   ]
  },
  {
   "cell_type": "code",
   "execution_count": 234,
   "id": "42dce452-a02e-483a-b2a6-a093ae52a2de",
   "metadata": {},
   "outputs": [
    {
     "data": {
      "text/html": [
       "<div>\n",
       "<style scoped>\n",
       "    .dataframe tbody tr th:only-of-type {\n",
       "        vertical-align: middle;\n",
       "    }\n",
       "\n",
       "    .dataframe tbody tr th {\n",
       "        vertical-align: top;\n",
       "    }\n",
       "\n",
       "    .dataframe thead th {\n",
       "        text-align: right;\n",
       "    }\n",
       "</style>\n",
       "<table border=\"1\" class=\"dataframe\">\n",
       "  <thead>\n",
       "    <tr style=\"text-align: right;\">\n",
       "      <th></th>\n",
       "      <th>female</th>\n",
       "      <th>male</th>\n",
       "      <th>non-binary</th>\n",
       "      <th>row totals</th>\n",
       "    </tr>\n",
       "  </thead>\n",
       "  <tbody>\n",
       "    <tr>\n",
       "      <th>influenced</th>\n",
       "      <td>137</td>\n",
       "      <td>149</td>\n",
       "      <td>0</td>\n",
       "      <td>286</td>\n",
       "    </tr>\n",
       "    <tr>\n",
       "      <th>not influenced</th>\n",
       "      <td>12</td>\n",
       "      <td>1</td>\n",
       "      <td>1</td>\n",
       "      <td>14</td>\n",
       "    </tr>\n",
       "    <tr>\n",
       "      <th>column totals</th>\n",
       "      <td>149</td>\n",
       "      <td>150</td>\n",
       "      <td>1</td>\n",
       "      <td>300</td>\n",
       "    </tr>\n",
       "  </tbody>\n",
       "</table>\n",
       "</div>"
      ],
      "text/plain": [
       "                female  male  non-binary  row totals\n",
       "influenced         137   149           0         286\n",
       "not influenced      12     1           1          14\n",
       "column totals      149   150           1         300"
      ]
     },
     "execution_count": 234,
     "metadata": {},
     "output_type": "execute_result"
    }
   ],
   "source": [
    "observed_gender_plot = pd.read_csv('observed_gender_table.csv')\n",
    "observed_gender_plot"
   ]
  },
  {
   "cell_type": "markdown",
   "id": "48439e54-ba89-423e-9f98-c41835b3c42b",
   "metadata": {},
   "source": [
    "In this situation I cannot use the chi-square test because the non-binary consumer ``row total`` multipled by the ``not influenced`` column total divided by the ``grand total`` is less than five for the expected values. \n",
    "\n",
    "As a result, I will not be including the ``non-binary`` consumer so I can use the chi-square test with a male/female and influenced/not influenced contingency table. I also reason that this data point is \"ok\" to remove since it is the only non-binary instance recorded and therefore not representative of the greater population being studied.\n",
    "\n",
    "The revised contingency table is as follows:"
   ]
  },
  {
   "cell_type": "code",
   "execution_count": 235,
   "id": "2666895b-7b88-4cbc-96f8-64a75c87816e",
   "metadata": {},
   "outputs": [],
   "source": [
    "revised_gender_influenced_total = gender_observed_arr[0] + gender_observed_arr[2] \n",
    "revised_gender_uninfluenced_total = gender_observed_arr[1] + gender_observed_arr[3]\n",
    "\n",
    "revised_consumer_total = revised_gender_influenced_total + revised_gender_uninfluenced_total"
   ]
  },
  {
   "cell_type": "code",
   "execution_count": 236,
   "id": "28013fc6-618d-4698-97a3-660c5e94bf29",
   "metadata": {},
   "outputs": [],
   "source": [
    "with open('revised_observed_gender_table.csv', 'w', encoding='utf-8') as f:\n",
    "    writer = csv.writer(f)\n",
    "    \n",
    "    writer.writerow(('female', 'male', 'row totals'))\n",
    "    \n",
    "    writer.writerow(('influenced', gender_observed_arr[0], gender_observed_arr[2], revised_gender_influenced_total))\n",
    "    writer.writerow(('not influenced', gender_observed_arr[1], gender_observed_arr[3], revised_gender_uninfluenced_total))\n",
    "    writer.writerow(('column totals', female_total, male_total, revised_consumer_total))"
   ]
  },
  {
   "cell_type": "code",
   "execution_count": 237,
   "id": "411ea308-b354-4ef0-a2f4-d39713cb01ca",
   "metadata": {},
   "outputs": [
    {
     "data": {
      "text/html": [
       "<div>\n",
       "<style scoped>\n",
       "    .dataframe tbody tr th:only-of-type {\n",
       "        vertical-align: middle;\n",
       "    }\n",
       "\n",
       "    .dataframe tbody tr th {\n",
       "        vertical-align: top;\n",
       "    }\n",
       "\n",
       "    .dataframe thead th {\n",
       "        text-align: right;\n",
       "    }\n",
       "</style>\n",
       "<table border=\"1\" class=\"dataframe\">\n",
       "  <thead>\n",
       "    <tr style=\"text-align: right;\">\n",
       "      <th></th>\n",
       "      <th>female</th>\n",
       "      <th>male</th>\n",
       "      <th>row totals</th>\n",
       "    </tr>\n",
       "  </thead>\n",
       "  <tbody>\n",
       "    <tr>\n",
       "      <th>influenced</th>\n",
       "      <td>137</td>\n",
       "      <td>149</td>\n",
       "      <td>286</td>\n",
       "    </tr>\n",
       "    <tr>\n",
       "      <th>not influenced</th>\n",
       "      <td>12</td>\n",
       "      <td>1</td>\n",
       "      <td>13</td>\n",
       "    </tr>\n",
       "    <tr>\n",
       "      <th>column totals</th>\n",
       "      <td>149</td>\n",
       "      <td>150</td>\n",
       "      <td>299</td>\n",
       "    </tr>\n",
       "  </tbody>\n",
       "</table>\n",
       "</div>"
      ],
      "text/plain": [
       "                female  male  row totals\n",
       "influenced         137   149         286\n",
       "not influenced      12     1          13\n",
       "column totals      149   150         299"
      ]
     },
     "execution_count": 237,
     "metadata": {},
     "output_type": "execute_result"
    }
   ],
   "source": [
    "observed_gender_plot = pd.read_csv('revised_observed_gender_table.csv')\n",
    "observed_gender_plot"
   ]
  },
  {
   "cell_type": "code",
   "execution_count": 238,
   "id": "36b88c21-5f7b-472a-b2a9-204b08f2bed5",
   "metadata": {},
   "outputs": [
    {
     "name": "stdout",
     "output_type": "stream",
     "text": [
      "chi-square statistic: 8.11213087248322\n",
      "degrees of freedom: 1\n",
      "expected values:[[142.52173913 143.47826087]\n",
      " [  6.47826087   6.52173913]]\n",
      "p value is 0.004397000976185477\n",
      "Dependent (reject H0)\n"
     ]
    }
   ],
   "source": [
    "# defining the table\n",
    "obs_gender_data = [[gender_observed_arr[0], gender_observed_arr[2]], # influenced female, influenced male\n",
    "                   [gender_observed_arr[1], gender_observed_arr[3]]] # uninfluenced female, uninfluenced male\n",
    "\n",
    "# gender_test_stat = test statistic aka the chi-square value\n",
    "# gender_p_val = p-value of the test\n",
    "# gender_dof = degrees of freedom\n",
    "# gender_expected_freq = expected frequencies, based on the marginal sums of the table\n",
    "gender_test_stat, gender_p_val, gender_dof, gender_expected_freq = chi2_contingency(obs_gender_data)\n",
    "\n",
    "# display results\n",
    "print('chi-square statistic: ' + str(gender_test_stat))\n",
    "print('degrees of freedom: ' + str(gender_dof))\n",
    "print('expected values:' + str(gender_expected_freq))\n",
    "\n",
    "# interpret p-value\n",
    "alpha = 0.05\n",
    "print(\"p value is \" + str(gender_p_val))\n",
    "if gender_p_val <= alpha:\n",
    "    print('Dependent (reject H0)')\n",
    "else:\n",
    "    print('Independent (H0 holds true)')"
   ]
  },
  {
   "cell_type": "markdown",
   "id": "8ad7c878-6be9-41a3-856f-15e1c79ca6b2",
   "metadata": {},
   "source": [
    "__Insight from chi-square test__:\n",
    "\n",
    "Since our p-value is less than our alpha (0.05), we reject the null hypothesis that gender and social media influence has no significant relation. We can assume the differences between the expected and observed values could not be due to mere chance. "
   ]
  },
  {
   "cell_type": "code",
   "execution_count": 239,
   "id": "448c8366-f4f8-4882-9ca4-03aba997a625",
   "metadata": {},
   "outputs": [
    {
     "data": {
      "image/png": "[encoded data removed]",
      "text/plain": [
       "<Figure size 1000x600 with 1 Axes>"
      ]
     },
     "metadata": {},
     "output_type": "display_data"
    }
   ],
   "source": [
    "combos = ('female, influenced', 'male, influenced', 'female, uninfluenced', 'male, uninfluenced')\n",
    "gender_vals = {\n",
    "    'gender_observed_vals': (obs_gender_data[0][0], obs_gender_data[0][1], # female/influenced, male/influenced\n",
    "                          obs_gender_data[1][0], obs_gender_data[1][1]), # female/uninfluenced, male/uninfluenced\n",
    "    'gender_expected_vals': (round(gender_expected_freq[0][0], 2), round(gender_expected_freq[0][1], 2), # female/influenced, male/influenced\n",
    "                          round(gender_expected_freq[1][0], 2), round(gender_expected_freq[1][1], 2)) # female/uninfluenced, male/uninfluenced\n",
    "}\n",
    "\n",
    "x = np.arange(len(combos))  # the label locations\n",
    "multiplier = 0\n",
    "\n",
    "# set width of bar \n",
    "barWidth = 0.25\n",
    "fig = plt.subplots(figsize =(10, 6)) \n",
    "\n",
    "# Add counts display for each bar\n",
    "for attribute, measurement in gender_vals.items():\n",
    "    offset = barWidth * multiplier\n",
    "    rects = plt.bar(x + offset, measurement, barWidth, label=attribute)\n",
    "    plt.bar_label(rects, padding=3)\n",
    "    multiplier += 1\n",
    "\n",
    "# Add some text for labels, title and custom x-axis tick labels, etc.\n",
    "plt.title('Observed vs Expected Values of Gender/Social Media Influence Combinations')\n",
    "plt.xlabel('Combination Type', fontweight ='bold', fontsize = 12) \n",
    "plt.ylabel('# of Consumers', fontweight ='bold', fontsize = 12) \n",
    "plt.xticks([r + (barWidth / 2) for r in range(len(gender_vals['gender_observed_vals']))], \n",
    "           ['female, influenced', 'female, uninfluenced', 'male, influenced', 'male, uninfluenced'])\n",
    "\n",
    "plt.legend()\n",
    "plt.show()"
   ]
  },
  {
   "cell_type": "markdown",
   "id": "38a5efee-60b9-4768-85bd-d0d73780c5a1",
   "metadata": {},
   "source": [
    "__Insights from observed vs expected values__:\n",
    "* Slightly less female consumers than expected completed a purchase influenced by social media.\n",
    "* Slightly more female consumers than expected were uninfluenced by social media during their purchase.\n",
    "* More male consumers than expected completed a purchase influenced by social media.\n",
    "* Fewer male consumers than expected were uninfluenced by social media during their purchase."
   ]
  },
  {
   "cell_type": "markdown",
   "id": "1babb8de-b5f3-4524-af7a-7e144ca2cd17",
   "metadata": {},
   "source": [
    "### Factor 3: Income"
   ]
  },
  {
   "cell_type": "markdown",
   "id": "6d6fb10f-b172-4bb4-9246-038ad13d0da6",
   "metadata": {},
   "source": [
    "* ``Null Hypothesis``: Income and social media's influence on a purchase are independent.\n",
    "* ``Alternative Hypothesis``: Income and social media's influence on a purchase are not independent."
   ]
  },
  {
   "cell_type": "markdown",
   "id": "2f30b1fd-8bb9-463c-b467-e150ad5d5ecf",
   "metadata": {},
   "source": [
    "First, I will determine the range of incomes in the dataset."
   ]
  },
  {
   "cell_type": "code",
   "execution_count": 240,
   "id": "88ad7665-e44c-4d3b-8fea-4f71180c6b9f",
   "metadata": {},
   "outputs": [
    {
     "name": "stdout",
     "output_type": "stream",
     "text": [
      "32000\n",
      "80000\n"
     ]
    }
   ],
   "source": [
    "lowest_income = -1 # lowest income level in dataset\n",
    "highest_income = -1 # highest income level in dataset\n",
    "\n",
    "for consumer in consumer_data:\n",
    "    curr_income = int(consumer['Income (USD)']) # convert string into int\n",
    "    \n",
    "    if lowest_income == -1:\n",
    "        lowest_income = curr_income\n",
    "    else:\n",
    "        if curr_income < lowest_income:\n",
    "            lowest_income = curr_income\n",
    "        elif curr_income > highest_income:\n",
    "            highest_income = curr_income\n",
    "        else:\n",
    "            pass\n",
    "\n",
    "print(lowest_income)\n",
    "print(highest_income)"
   ]
  },
  {
   "cell_type": "markdown",
   "id": "5fd0bda1-c2f2-456c-8e3c-c9fa4301aaa1",
   "metadata": {},
   "source": [
    "I will be grouping income levels in the dataset based on [2022 US Census Bureau](https://www.census.gov/content/dam/Census/library/publications/2023/demo/p60-279.pdf) household income data and [Yahoo!Finance's](https://finance.yahoo.com/news/income-fall-americas-lower-middle-122100515.html?guccounter=1&guce_referrer=aHR0cHM6Ly93d3cuZ29vZ2xlLmNvbS8&guce_referrer_sig=AQAAAM6H35XwcgpCtSdjGKClh_A4Xn4KgA5u5USDoU498z-05vA5t7BvBlIZCrK3yCAJdVJ6baLY6QpOCoTlzevd_009j3xKVKC_fJcDvLe0qGdFohdOBI9_RxlE7DxOqaF9AwzM2ByIo00zFpXhuiTSKDjakxxlAJ14DBXJhf6BjbTb) income groupings and associated class labels:\n",
    "\n",
    "* ``Lower class``: up to \\$30,000\n",
    "* ``Lower-middle class``: \\\\$30,001 - \\$58,020\n",
    "* ``Middle class``: \\\\$58,021 - \\$94,000\n",
    "* ``Upper-middle class``: \\\\$94,001 - \\$153,000\n",
    "* ``Upper class``: over \\$153,000\n",
    "\n",
    "Based on the lowest and highest income levels in the dataset, I will be splitting up the incomes into a ``lower-middle class`` group and a ``middle-class`` group. In this process, I will also be determining the counts for how many consumers in each class group reported being influenced by social media during a purchase or not."
   ]
  },
  {
   "cell_type": "code",
   "execution_count": 241,
   "id": "d557d9ea-face-4a19-b213-02c4d61bd9c2",
   "metadata": {},
   "outputs": [],
   "source": [
    "low_mid_influenced = 0 # lower-middle class & influenced\n",
    "low_mid_uninfluenced = 0 # lower-middle class & uninfluenced\n",
    "\n",
    "mid_influenced = 0 # middle class & influenced\n",
    "mid_uninfluenced = 0 # middle class & uninfluenced\n",
    "\n",
    "for consumer in consumer_data:\n",
    "    curr_income = int(consumer['Income (USD)']) # convert string into int\n",
    "    if curr_income <= 58020:\n",
    "        if consumer['Purchase Decision'] == 'Yes': # lower-middle class & influenced\n",
    "            low_mid_influenced = low_mid_influenced + 1\n",
    "        else:\n",
    "            low_mid_uninfluenced = low_mid_uninfluenced + 1\n",
    "    else:\n",
    "        if consumer['Purchase Decision'] == 'Yes': # middle class & influenced\n",
    "            mid_influenced = mid_influenced + 1\n",
    "        else:\n",
    "            mid_uninfluenced = mid_uninfluenced + 1\n",
    "\n",
    "# row totals for table display\n",
    "income_influenced_total = low_mid_influenced + mid_influenced\n",
    "income_uninfluenced_total = low_mid_uninfluenced + mid_uninfluenced\n",
    "\n",
    "# column totals for table display\n",
    "income_low_mid_total = low_mid_influenced + low_mid_uninfluenced\n",
    "income_mid_total = mid_influenced + mid_uninfluenced"
   ]
  },
  {
   "cell_type": "code",
   "execution_count": 242,
   "id": "5bde4298-2c63-4291-9cc5-2a481947fd35",
   "metadata": {},
   "outputs": [],
   "source": [
    "with open('observed_income_table.csv', 'w', encoding='utf-8') as f:\n",
    "    writer = csv.writer(f)\n",
    "    \n",
    "    writer.writerow(('lower-middle class', 'middle class', 'row totals'))\n",
    "    \n",
    "    writer.writerow(('influenced', low_mid_influenced, mid_influenced, income_influenced_total))\n",
    "    writer.writerow(('not influenced', low_mid_uninfluenced, mid_uninfluenced, income_uninfluenced_total))\n",
    "    writer.writerow(('column totals', income_low_mid_total, income_mid_total, consumer_total))"
   ]
  },
  {
   "cell_type": "code",
   "execution_count": 243,
   "id": "21720dd0-b0e1-4029-91f0-7e2b511b0000",
   "metadata": {},
   "outputs": [
    {
     "data": {
      "text/html": [
       "<div>\n",
       "<style scoped>\n",
       "    .dataframe tbody tr th:only-of-type {\n",
       "        vertical-align: middle;\n",
       "    }\n",
       "\n",
       "    .dataframe tbody tr th {\n",
       "        vertical-align: top;\n",
       "    }\n",
       "\n",
       "    .dataframe thead th {\n",
       "        text-align: right;\n",
       "    }\n",
       "</style>\n",
       "<table border=\"1\" class=\"dataframe\">\n",
       "  <thead>\n",
       "    <tr style=\"text-align: right;\">\n",
       "      <th></th>\n",
       "      <th>lower-middle class</th>\n",
       "      <th>middle class</th>\n",
       "      <th>row totals</th>\n",
       "    </tr>\n",
       "  </thead>\n",
       "  <tbody>\n",
       "    <tr>\n",
       "      <th>influenced</th>\n",
       "      <td>189</td>\n",
       "      <td>97</td>\n",
       "      <td>286</td>\n",
       "    </tr>\n",
       "    <tr>\n",
       "      <th>not influenced</th>\n",
       "      <td>14</td>\n",
       "      <td>0</td>\n",
       "      <td>14</td>\n",
       "    </tr>\n",
       "    <tr>\n",
       "      <th>column totals</th>\n",
       "      <td>203</td>\n",
       "      <td>97</td>\n",
       "      <td>300</td>\n",
       "    </tr>\n",
       "  </tbody>\n",
       "</table>\n",
       "</div>"
      ],
      "text/plain": [
       "                lower-middle class  middle class  row totals\n",
       "influenced                     189            97         286\n",
       "not influenced                  14             0          14\n",
       "column totals                  203            97         300"
      ]
     },
     "execution_count": 243,
     "metadata": {},
     "output_type": "execute_result"
    }
   ],
   "source": [
    "# import pandas as pd\n",
    "observed_gender_plot = pd.read_csv('observed_income_table.csv')\n",
    "observed_gender_plot"
   ]
  },
  {
   "cell_type": "markdown",
   "id": "41254b19-a113-4c4f-a186-dd6ea4f62d78",
   "metadata": {},
   "source": [
    "Looking at the row and column totals, there are no combinations where the expected value is less than 5. With that in mind, I will use the chi-square test of independence using the ``chi2_contingency`` function from the ``scipy.stats`` package. "
   ]
  },
  {
   "cell_type": "code",
   "execution_count": 244,
   "id": "6a084223-7a07-4d38-a65f-f3a5588743c8",
   "metadata": {},
   "outputs": [
    {
     "name": "stdout",
     "output_type": "stream",
     "text": [
      "chi-square statistic: 5.552560283147862\n",
      "degrees of freedom: 1\n",
      "expected values:[[193.52666667  92.47333333]\n",
      " [  9.47333333   4.52666667]]\n",
      "p value is 0.01845367498420565\n",
      "Dependent (reject H0)\n"
     ]
    }
   ],
   "source": [
    "# defining the table\n",
    "obs_income_data = [[low_mid_influenced, mid_influenced], # lower-middle class/influenced, middle class/influenced\n",
    "                   [low_mid_uninfluenced, mid_uninfluenced]] # lower-middle class/uninfluenced, middle class/uninfluenced\n",
    "\n",
    "# income_test_stat = test statistic aka the chi-square value\n",
    "# income_p_val = p-value of the test\n",
    "# income_dof = degrees of freedom\n",
    "# income_expected_freq = expected frequencies, based on the marginal sums of the table\n",
    "income_test_stat, income_p_val, income_dof, income_expected_freq = chi2_contingency(obs_income_data)\n",
    "\n",
    "# display results\n",
    "print('chi-square statistic: ' + str(income_test_stat))\n",
    "print('degrees of freedom: ' + str(income_dof))\n",
    "print('expected values:' + str(income_expected_freq))\n",
    "\n",
    "# interpret p-value\n",
    "alpha = 0.05\n",
    "print(\"p value is \" + str(income_p_val))\n",
    "if income_p_val <= alpha:\n",
    "    print('Dependent (reject H0)')\n",
    "else:\n",
    "    print('Independent (H0 holds true)')"
   ]
  },
  {
   "cell_type": "markdown",
   "id": "519d74b1-b87a-4b2a-9bd8-0e21bebb3f51",
   "metadata": {},
   "source": [
    "__Insight from chi-square test__:\n",
    "\n",
    "Since our p-value is less than our alpha (0.05), we reject the null hypothesis that there is no significant relation between income level and social media's influence on a purchase. We can assume the differences between the expected and observed values could not be due to mere chance. "
   ]
  },
  {
   "cell_type": "code",
   "execution_count": 269,
   "id": "c4fbc407-0519-4232-be62-45fb623c1d72",
   "metadata": {},
   "outputs": [
    {
     "data": {
      "image/png": "[encoded data removed]",
      "text/plain": [
       "<Figure size 1000x600 with 1 Axes>"
      ]
     },
     "metadata": {},
     "output_type": "display_data"
    }
   ],
   "source": [
    "income_combos = ('lower-middle class, influenced', 'lower-middle class, uninfluenced', 'middle class, influenced', 'middle class, uninfluenced')\n",
    "income_vals = {\n",
    "    'income_observed_vals': (obs_income_data[0][0], obs_income_data[0][1], # female/influenced, male/influenced\n",
    "                          obs_income_data[1][0], obs_income_data[1][1]), # female/uninfluenced, male/uninfluenced\n",
    "    'income_expected_vals': (round(income_expected_freq[0][0], 2), round(income_expected_freq[0][1], 2), # female/influenced, male/influenced\n",
    "                          round(income_expected_freq[1][0], 2), round(income_expected_freq[1][1], 2)) # female/uninfluenced, male/uninfluenced\n",
    "}\n",
    "\n",
    "x = np.arange(len(income_combos))  # the label locations\n",
    "multiplier = 0\n",
    "\n",
    "# set width of bar \n",
    "barWidth = 0.25\n",
    "fig = plt.subplots(figsize =(10, 6)) \n",
    "\n",
    "# Add counts display for each bar\n",
    "for attribute, measurement in income_vals.items():\n",
    "    offset = barWidth * multiplier\n",
    "    rects = plt.bar(x + offset, measurement, barWidth, label=attribute)\n",
    "    plt.bar_label(rects, padding=3)\n",
    "    multiplier += 1\n",
    "\n",
    "# Add some text for labels, title and custom x-axis tick labels, etc.\n",
    "plt.title('Observed vs Expected Values of Income/Social Media Influence Combinations')\n",
    "plt.xlabel('Combination Type', fontweight ='bold', fontsize = 12) \n",
    "plt.ylabel('# of Consumers', fontweight ='bold', fontsize = 12) \n",
    "plt.xticks([r + (barWidth / 2) for r in range(len(income_vals['income_observed_vals']))], \n",
    "           ['lower-middle class,\\ninfluenced', 'lower-middle class,\\nuninfluenced', 'middle class,\\ninfluenced', 'middle class,\\nuninfluenced'])\n",
    "\n",
    "plt.legend()\n",
    "plt.show()"
   ]
  },
  {
   "cell_type": "markdown",
   "id": "ba5d2554-2166-44ed-9253-8843dee6806d",
   "metadata": {},
   "source": [
    "__Insights from observed vs expected values__:\n",
    "* Slightly fewer lower-middle class consumers than expected were influenced by social media for a purchase.\n",
    "* Slightly more lower-middle class consumers than expected were not influenced by social media for a purchase.\n",
    "* More middle class consumers than expected were influenced by social media for a purchase.\n",
    "* Fewer middle class consumers than expected were not influecned by social media for a purchase."
   ]
  },
  {
   "cell_type": "markdown",
   "id": "e3708cda-e1f9-42f8-8abb-c5256776df64",
   "metadata": {},
   "source": [
    "### Factor 4: Education Level"
   ]
  },
  {
   "cell_type": "markdown",
   "id": "38c217f6-5bf4-47b6-96bd-5520feacc260",
   "metadata": {},
   "source": [
    "* ``Null Hypothesis``: Education level and social media's influence on a purchase are independent.\n",
    "* ``Alternative Hypothesis``: Education level and social media's influence on a purchase are not independent."
   ]
  },
  {
   "cell_type": "markdown",
   "id": "4a050914-025b-4dd1-86b7-1030aecd06dd",
   "metadata": {},
   "source": [
    "First I will loop through the dataset and determine what levels of education are present."
   ]
  },
  {
   "cell_type": "code",
   "execution_count": 246,
   "id": "6f90a674-90bf-4fb5-961c-2d98736041f1",
   "metadata": {},
   "outputs": [
    {
     "name": "stdout",
     "output_type": "stream",
     "text": [
      "{\"Bachelor's\", \"Master's\", 'High School', 'PhD'}\n"
     ]
    }
   ],
   "source": [
    "education_lvls = set()\n",
    "\n",
    "for consumer in consumer_data:\n",
    "    if consumer['Education Level'] not in education_lvls:\n",
    "        education_lvls.add(consumer['Education Level'])\n",
    "    else:\n",
    "        pass\n",
    "\n",
    "print(education_lvls)"
   ]
  },
  {
   "cell_type": "markdown",
   "id": "cc435cff-2fde-4c6e-860f-bdd6459c585d",
   "metadata": {},
   "source": [
    "Now that we know the education levels, let's calculate the totals for every combination of education level and social media influence."
   ]
  },
  {
   "cell_type": "code",
   "execution_count": 247,
   "id": "e88e7a31-3a5f-4b90-93fe-8731f0771db5",
   "metadata": {},
   "outputs": [],
   "source": [
    "hs_influenced = 0\n",
    "hs_uninfluenced = 0\n",
    "\n",
    "bachelors_influenced = 0\n",
    "bachelors_uninfluenced = 0\n",
    "\n",
    "masters_influenced = 0\n",
    "masters_uninfluenced = 0\n",
    "\n",
    "phd_influenced = 0\n",
    "phd_uninfluenced = 0\n",
    "\n",
    "for consumer in consumer_data:\n",
    "    if consumer['Purchase Decision'] == 'Yes':\n",
    "        if consumer['Education Level'] == \"Bachelor's\":\n",
    "            bachelors_influenced = bachelors_influenced + 1\n",
    "        elif consumer['Education Level'] == \"Master's\":\n",
    "            masters_influenced = masters_influenced + 1\n",
    "        elif consumer['Education Level'] == \"High School\":\n",
    "            hs_influenced = hs_influenced + 1\n",
    "        else:\n",
    "            phd_influenced = phd_influenced + 1\n",
    "    else:\n",
    "        if consumer['Education Level'] == \"Bachelor's\":\n",
    "            bachelors_uninfluenced = bachelors_uninfluenced + 1\n",
    "        elif consumer['Education Level'] == \"Master's\":\n",
    "            masters_uninfluenced = masters_uninfluenced + 1\n",
    "        elif consumer['Education Level'] == \"High School\":\n",
    "            hs_uninfluenced = hs_uninfluenced + 1\n",
    "        else:\n",
    "            phd_uninfluenced = phd_uninfluenced + 1\n",
    "\n",
    "# row totals for table display\n",
    "edu_influenced_total = bachelors_influenced + masters_influenced + hs_influenced + phd_influenced\n",
    "edu_uninfluenced_total = bachelors_uninfluenced + masters_uninfluenced + hs_uninfluenced + phd_uninfluenced\n",
    "\n",
    "# column totals for table display\n",
    "hs_total = hs_influenced + hs_uninfluenced\n",
    "bachelors_total = bachelors_influenced + bachelors_uninfluenced\n",
    "masters_total = masters_influenced + masters_uninfluenced\n",
    "phd_total = phd_influenced + phd_uninfluenced"
   ]
  },
  {
   "cell_type": "code",
   "execution_count": 248,
   "id": "1fb1964d-8873-418a-8e71-21a874ff4efa",
   "metadata": {},
   "outputs": [],
   "source": [
    "with open('observed_edu_table.csv', 'w', encoding='utf-8') as f:\n",
    "    writer = csv.writer(f)\n",
    "    \n",
    "    writer.writerow((\"High School\", \"Bachelor's\", \"Master's\", \"PhD\", \"row totals\"))\n",
    "    \n",
    "    writer.writerow(('influenced', hs_influenced, bachelors_influenced, masters_influenced, phd_influenced, edu_influenced_total))\n",
    "    writer.writerow(('not influenced', hs_uninfluenced, bachelors_uninfluenced, masters_uninfluenced, phd_uninfluenced, edu_uninfluenced_total))\n",
    "    writer.writerow(('column totals', hs_total, bachelors_total, masters_total, phd_total, consumer_total))"
   ]
  },
  {
   "cell_type": "code",
   "execution_count": 249,
   "id": "6c683eb9-48c7-4216-855d-865b646ab0c3",
   "metadata": {},
   "outputs": [
    {
     "data": {
      "text/html": [
       "<div>\n",
       "<style scoped>\n",
       "    .dataframe tbody tr th:only-of-type {\n",
       "        vertical-align: middle;\n",
       "    }\n",
       "\n",
       "    .dataframe tbody tr th {\n",
       "        vertical-align: top;\n",
       "    }\n",
       "\n",
       "    .dataframe thead th {\n",
       "        text-align: right;\n",
       "    }\n",
       "</style>\n",
       "<table border=\"1\" class=\"dataframe\">\n",
       "  <thead>\n",
       "    <tr style=\"text-align: right;\">\n",
       "      <th></th>\n",
       "      <th>High School</th>\n",
       "      <th>Bachelor's</th>\n",
       "      <th>Master's</th>\n",
       "      <th>PhD</th>\n",
       "      <th>row totals</th>\n",
       "    </tr>\n",
       "  </thead>\n",
       "  <tbody>\n",
       "    <tr>\n",
       "      <th>influenced</th>\n",
       "      <td>2</td>\n",
       "      <td>165</td>\n",
       "      <td>88</td>\n",
       "      <td>31</td>\n",
       "      <td>286</td>\n",
       "    </tr>\n",
       "    <tr>\n",
       "      <th>not influenced</th>\n",
       "      <td>14</td>\n",
       "      <td>0</td>\n",
       "      <td>0</td>\n",
       "      <td>0</td>\n",
       "      <td>14</td>\n",
       "    </tr>\n",
       "    <tr>\n",
       "      <th>column totals</th>\n",
       "      <td>16</td>\n",
       "      <td>165</td>\n",
       "      <td>88</td>\n",
       "      <td>31</td>\n",
       "      <td>300</td>\n",
       "    </tr>\n",
       "  </tbody>\n",
       "</table>\n",
       "</div>"
      ],
      "text/plain": [
       "                High School  Bachelor's  Master's  PhD  row totals\n",
       "influenced                2         165        88   31         286\n",
       "not influenced           14           0         0    0          14\n",
       "column totals            16         165        88   31         300"
      ]
     },
     "execution_count": 249,
     "metadata": {},
     "output_type": "execute_result"
    }
   ],
   "source": [
    "observed_edu_plot = pd.read_csv('observed_edu_table.csv')\n",
    "observed_edu_plot"
   ]
  },
  {
   "cell_type": "markdown",
   "id": "4a5b5580-0be9-4e21-af3f-019b6795ae0a",
   "metadata": {},
   "source": [
    "Both the high school/uninfluenced and PhD/uninfluenced combinations have expected values less than 5. This has created a accuracy vs precision dilemma that I will discuss below along with my decision on the matter:\n",
    "\n",
    "<u>Dilemma</u>: If I choose to not include high school educated and phd educated consumers, I would have more precise measurements for the education levels still included in the analysis. However I would lose accuracy because I'd be losing over a sixth (47 consumers aka about 16%) of the total consumer population in the dataset. If I chose to include high school educated and phd educated consumers, I'd have a higher accuracy in my analysis. However, I would lose some precision since I'd have to combine education levels together to ensure all ``expected values`` are greater than 5. \n",
    "\n",
    "<u>Decision</u>: Faced with this dilemma, I reasoned I would rather my measurements be more correct and accurate rather than precise. So, I am combining education levels together to create the categories: ``high school to bachelor's`` and ``master's to PhD``.\n",
    "\n",
    "With that decided, I will now revise my original education contingency table to reflect my adjustments."
   ]
  },
  {
   "cell_type": "code",
   "execution_count": 250,
   "id": "668c967b-49ba-4431-a9c3-0d3a5e289ca8",
   "metadata": {},
   "outputs": [],
   "source": [
    "# combination totals for revised edu table\n",
    "hs_bachelors_influenced = hs_influenced + bachelors_influenced\n",
    "hs_bachelors_uninfluenced = hs_uninfluenced + bachelors_uninfluenced\n",
    "\n",
    "masters_phd_influenced = masters_influenced + phd_influenced\n",
    "masters_phd_uninfluenced = masters_uninfluenced + phd_uninfluenced\n",
    "\n",
    "# row totals for revised edu table remain the same as previous table\n",
    "edu_influenced_total = bachelors_influenced + masters_influenced + hs_influenced + phd_influenced\n",
    "edu_uninfluenced_total = bachelors_uninfluenced + masters_uninfluenced + hs_uninfluenced + phd_uninfluenced\n",
    "\n",
    "# column totals for revised edu table \n",
    "hs_bachelors_total = hs_total + bachelors_total\n",
    "masters_phd_total = masters_total + phd_total"
   ]
  },
  {
   "cell_type": "code",
   "execution_count": 251,
   "id": "abd0e3ab-506e-479b-b6be-e792b91567c2",
   "metadata": {},
   "outputs": [],
   "source": [
    "with open('revised_observed_edu_table.csv', 'w', encoding='utf-8') as f:\n",
    "    writer = csv.writer(f)\n",
    "    \n",
    "    writer.writerow((\"High School to Bachelor's\", \"Master's to PhD\", \"row totals\"))\n",
    "    \n",
    "    writer.writerow(('influenced', hs_bachelors_influenced, masters_phd_influenced, edu_influenced_total))\n",
    "    writer.writerow(('not influenced', hs_bachelors_uninfluenced, hs_bachelors_uninfluenced, edu_uninfluenced_total))\n",
    "    writer.writerow(('column totals', hs_bachelors_total, masters_phd_total, consumer_total))"
   ]
  },
  {
   "cell_type": "code",
   "execution_count": 252,
   "id": "130d7ae4-cf67-4be5-9b24-8ccc05f52fff",
   "metadata": {},
   "outputs": [
    {
     "data": {
      "text/html": [
       "<div>\n",
       "<style scoped>\n",
       "    .dataframe tbody tr th:only-of-type {\n",
       "        vertical-align: middle;\n",
       "    }\n",
       "\n",
       "    .dataframe tbody tr th {\n",
       "        vertical-align: top;\n",
       "    }\n",
       "\n",
       "    .dataframe thead th {\n",
       "        text-align: right;\n",
       "    }\n",
       "</style>\n",
       "<table border=\"1\" class=\"dataframe\">\n",
       "  <thead>\n",
       "    <tr style=\"text-align: right;\">\n",
       "      <th></th>\n",
       "      <th>High School to Bachelor's</th>\n",
       "      <th>Master's to PhD</th>\n",
       "      <th>row totals</th>\n",
       "    </tr>\n",
       "  </thead>\n",
       "  <tbody>\n",
       "    <tr>\n",
       "      <th>influenced</th>\n",
       "      <td>167</td>\n",
       "      <td>119</td>\n",
       "      <td>286</td>\n",
       "    </tr>\n",
       "    <tr>\n",
       "      <th>not influenced</th>\n",
       "      <td>14</td>\n",
       "      <td>14</td>\n",
       "      <td>14</td>\n",
       "    </tr>\n",
       "    <tr>\n",
       "      <th>column totals</th>\n",
       "      <td>181</td>\n",
       "      <td>119</td>\n",
       "      <td>300</td>\n",
       "    </tr>\n",
       "  </tbody>\n",
       "</table>\n",
       "</div>"
      ],
      "text/plain": [
       "                High School to Bachelor's  Master's to PhD  row totals\n",
       "influenced                            167              119         286\n",
       "not influenced                         14               14          14\n",
       "column totals                         181              119         300"
      ]
     },
     "execution_count": 252,
     "metadata": {},
     "output_type": "execute_result"
    }
   ],
   "source": [
    "observed_edu_plot = pd.read_csv('revised_observed_edu_table.csv')\n",
    "observed_edu_plot"
   ]
  },
  {
   "cell_type": "markdown",
   "id": "7fbf9024-8cc4-4398-ac92-93f509b5e4c0",
   "metadata": {},
   "source": [
    "Now that we have our revised education contingency table, I will use the chi-square test of independence using the ``chi2_contingency`` function from the ``scipy.stats`` package. "
   ]
  },
  {
   "cell_type": "code",
   "execution_count": 253,
   "id": "0182c3d8-3890-4ccb-a54b-ef078a5ca5d6",
   "metadata": {},
   "outputs": [
    {
     "name": "stdout",
     "output_type": "stream",
     "text": [
      "chi-square statistic: 0.4320060469584832\n",
      "degrees of freedom: 1\n",
      "expected values:[[164.85987261 121.14012739]\n",
      " [ 16.14012739  11.85987261]]\n",
      "p value is 0.5110062497684047\n",
      "Independent (H0 holds true)\n"
     ]
    }
   ],
   "source": [
    "# defining the table\n",
    "obs_edu_data = [[hs_bachelors_influenced, masters_phd_influenced], # high school to bachelor's/influenced, master's to phd/influenced\n",
    "                [hs_bachelors_uninfluenced, hs_bachelors_uninfluenced]] # high school to bachelor's/uninfluenced, master's to phd/uninfluenced\n",
    "\n",
    "# income_test_stat = test statistic aka the chi-square value\n",
    "# income_p_val = p-value of the test\n",
    "# income_dof = degrees of freedom\n",
    "# income_expected_freq = expected frequencies, based on the marginal sums of the table\n",
    "edu_test_stat, edu_p_val, edu_dof, edu_expected_freq = chi2_contingency(obs_edu_data)\n",
    "\n",
    "# display results\n",
    "print('chi-square statistic: ' + str(edu_test_stat))\n",
    "print('degrees of freedom: ' + str(edu_dof))\n",
    "print('expected values:' + str(edu_expected_freq))\n",
    "\n",
    "# interpret p-value\n",
    "alpha = 0.05\n",
    "print(\"p value is \" + str(edu_p_val))\n",
    "if edu_p_val <= alpha:\n",
    "    print('Dependent (reject H0)')\n",
    "else:\n",
    "    print('Independent (H0 holds true)')"
   ]
  },
  {
   "cell_type": "markdown",
   "id": "ff9f2837-0169-468a-a8bc-38a93154ebce",
   "metadata": {},
   "source": [
    "__Chi-square test finding__:\n",
    "Since the p-value is greater than our 0.05 alpha, the null hypothesis cannot be rejected, meaning that education level and social media's influence on a purchase are independent."
   ]
  },
  {
   "cell_type": "code",
   "execution_count": 254,
   "id": "74232083-2bec-429d-b11c-de19d03780ad",
   "metadata": {},
   "outputs": [
    {
     "data": {
      "image/png": "[encoded data removed]",
      "text/plain": [
       "<Figure size 1000x600 with 1 Axes>"
      ]
     },
     "metadata": {},
     "output_type": "display_data"
    }
   ],
   "source": [
    "edu_combos = (\"high school to bachelor's, influenced\", \"high school to bachelor's, uninfluenced\",\n",
    "                 \"master's to phd, influenced'\", \"master's to phd, uninfluenced\")\n",
    "edu_vals = {\n",
    "    'edu_observed_vals': (obs_edu_data[0][0], obs_edu_data[0][1], # high school to bachelor's/influenced, master's to phd/influenced\n",
    "                          obs_edu_data[1][0], obs_edu_data[1][1]), # high school to bachelor's/uninfluenced, master's to phd/uninfluenced\n",
    "    'edu_expected_vals': (round(edu_expected_freq[0][0], 2), round(edu_expected_freq[0][1], 2), # high school to bachelor's/influenced, master's to phd/influenced\n",
    "                          round(edu_expected_freq[1][0], 2), round(edu_expected_freq[1][1], 2)) # high school to bachelor's/uninfluenced, master's to phd/uninfluenced\n",
    "}\n",
    "\n",
    "x = np.arange(len(edu_combos))  # the label locations\n",
    "multiplier = 0\n",
    "\n",
    "# set width of bar \n",
    "barWidth = 0.25\n",
    "fig = plt.subplots(figsize =(10, 6)) \n",
    "\n",
    "# Add counts display for each bar\n",
    "for attribute, measurement in edu_vals.items():\n",
    "    offset = barWidth * multiplier\n",
    "    rects = plt.bar(x + offset, measurement, barWidth, label=attribute)\n",
    "    plt.bar_label(rects, padding=3)\n",
    "    multiplier += 1\n",
    "\n",
    "# Add some text for labels, title and custom x-axis tick labels, etc.\n",
    "plt.title('Observed vs Expected Values of Education Level/Social Media Influence Combinations')\n",
    "plt.xlabel('Combination Type', fontweight ='bold', fontsize = 12) \n",
    "plt.ylabel('# of Consumers', fontweight ='bold', fontsize = 12) \n",
    "plt.xticks([r + (barWidth / 2) for r in range(len(edu_vals['edu_observed_vals']))], \n",
    "           [\"hs to bachelor's,\\ninfluenced\", \"hs to bachelor's,\\nuninfluenced\", \"master's to phd,\\ninfluenced\", \"master's to phd,\\nuninfluenced\"])\n",
    "\n",
    "plt.legend()\n",
    "plt.show()"
   ]
  },
  {
   "cell_type": "markdown",
   "id": "f7652385-2e39-4203-a5da-69a6d1d019a8",
   "metadata": {},
   "source": [
    "__Insights from observed vs expected values__:\n",
    "* Slightly more consumers than expected with a high school to bachelor's education level were influenced by social media for a purchase.\n",
    "* Slightly less consumers than expected with a high school to bachelor's education level were not influenced by social media for a purchase.\n",
    "* Slightly less consumers than expected with a master's or phd education level were influenced by social media for a purchase.\n",
    "* Slightly more consumers than expected with a master's or phd education level were not influenced by social media for a purchase."
   ]
  },
  {
   "cell_type": "markdown",
   "id": "69809a53-c936-4284-9e60-4e11deb3a0ca",
   "metadata": {},
   "source": [
    "## RQ2: What social media platforms are the most used by consumers whose purchases were influenced by social media?\n",
    "\n",
    "To try and answer this question, I will be analyzing the ``Social Media Platforms`` data column in the dataset.\n",
    "\n",
    "First, let's loop through the dataset and determine what social media platforms consumers reported using. "
   ]
  },
  {
   "cell_type": "code",
   "execution_count": 255,
   "id": "a08ce326-ffbc-4804-9f1c-a20efbbaf888",
   "metadata": {},
   "outputs": [
    {
     "name": "stdout",
     "output_type": "stream",
     "text": [
      "{'TikTok', 'Twitter', 'Snapchat', 'Pinterest', 'Facebook', 'LinkedIn', 'Instagram'}\n"
     ]
    }
   ],
   "source": [
    "platforms_set = set()\n",
    "\n",
    "for consumer in consumer_data:\n",
    "    platforms = consumer['Social Media Platforms'].split(\", \")\n",
    "\n",
    "    if platforms[0] not in platforms_set:\n",
    "        platforms_set.add(platforms[0])\n",
    "    elif platforms[1] not in platforms_set:\n",
    "        platforms_set.add(platforms[1])\n",
    "    else:\n",
    "        pass\n",
    "\n",
    "print(platforms_set)"
   ]
  },
  {
   "cell_type": "markdown",
   "id": "f2370947-fd97-4d01-8299-91890563c175",
   "metadata": {},
   "source": [
    "I will now calculate the counts for each combination of social media platform and social media influence. "
   ]
  },
  {
   "cell_type": "code",
   "execution_count": 256,
   "id": "9cfb5668-9643-413b-a144-ecae5602a9b4",
   "metadata": {},
   "outputs": [],
   "source": [
    "def determine_platforms(curr_platforms, index, arr):\n",
    "    if curr_platforms[index] == 'LinkedIn':\n",
    "        arr[0] = arr[0] + 1\n",
    "    elif curr_platforms[index] == 'Twitter':\n",
    "        arr[1] = arr[1] + 1\n",
    "    elif curr_platforms[index] == 'Instagram':\n",
    "        arr[2] = arr[2] + 1\n",
    "    elif curr_platforms[index] == 'Pinterest':\n",
    "        arr[3] = arr[3] + 1\n",
    "    elif curr_platforms[index] == 'Snapchat':\n",
    "        arr[4] = arr[4] + 1\n",
    "    elif curr_platforms[index] == 'Facebook':\n",
    "        arr[5] = arr[5] + 1\n",
    "    else:\n",
    "        arr[6] = arr[6] + 1"
   ]
  },
  {
   "cell_type": "code",
   "execution_count": 257,
   "id": "33d513ea-f310-4165-bbec-2f442b2f8940",
   "metadata": {},
   "outputs": [],
   "source": [
    "platforms_influenced = [0, 0, 0, 0, 0, 0, 0] # linkedin = [0], twitter = [1], insta = [3], pinterest, snap, facebook, tiktok\n",
    "platforms_uninfluenced = [0, 0, 0, 0, 0, 0, 0] # linkedin = [0], twitter = [1], insta = [3], pinterest, snap, facebook, tiktok\n",
    "\n",
    "for consumer in consumer_data:\n",
    "    curr_platforms = consumer['Social Media Platforms'].split(\", \")\n",
    "    \n",
    "    if consumer['Purchase Decision'] == 'Yes':\n",
    "        determine_platforms(curr_platforms, 0, platforms_influenced)\n",
    "    else:\n",
    "        determine_platforms(curr_platforms, 0, platforms_uninfluenced)\n",
    "\n",
    "# row totals for table display\n",
    "platforms_influenced_total = (platforms_influenced[0] + platforms_influenced[1] + platforms_influenced[2] + platforms_influenced[3] + \n",
    "                              platforms_influenced[4] + platforms_influenced[5] + platforms_influenced[6])\n",
    "\n",
    "platforms_uninfluenced_total = (platforms_uninfluenced[0] + platforms_uninfluenced[1] + platforms_uninfluenced[2] + platforms_uninfluenced[3] + \n",
    "                              platforms_uninfluenced[4] + platforms_uninfluenced[5] + platforms_uninfluenced[6])\n",
    "\n",
    "# column totals for table display\n",
    "linkedin_total = platforms_influenced[0] + platforms_uninfluenced[0]\n",
    "twitter_total = platforms_influenced[1] + platforms_uninfluenced[1]\n",
    "insta_total = platforms_influenced[2] + platforms_uninfluenced[2]\n",
    "pin_total = platforms_influenced[3] + platforms_uninfluenced[3]\n",
    "snap_total = platforms_influenced[4] + platforms_uninfluenced[4]\n",
    "fb_total = platforms_influenced[5] + platforms_uninfluenced[5]\n",
    "tiktok_total = platforms_influenced[6] + platforms_uninfluenced[6]"
   ]
  },
  {
   "cell_type": "markdown",
   "id": "bae1898f-6c28-4b22-b564-684d10d5e9bc",
   "metadata": {},
   "source": [
    "Now that I have the counts for every cell, I will create a contingency table to visually display the values. I will also create a bar graph for better visualization of the results."
   ]
  },
  {
   "cell_type": "code",
   "execution_count": 258,
   "id": "02b1562c-ccb5-401f-9398-9c08b96999d8",
   "metadata": {},
   "outputs": [],
   "source": [
    "with open('observed_platforms_table.csv', 'w', encoding='utf-8') as f:\n",
    "    writer = csv.writer(f)\n",
    "    \n",
    "    writer.writerow(('LinkedIn', 'Twitter', 'Instagram', 'Pinterest', 'Snapchat', 'Facebook', 'TikTok', 'row totals'))\n",
    "    \n",
    "    writer.writerow(('influenced', platforms_influenced[0], platforms_influenced[1], platforms_influenced[2], platforms_influenced[3], \n",
    "                     platforms_influenced[4], platforms_influenced[5], platforms_influenced[6], platforms_influenced_total))\n",
    "    writer.writerow(('not influenced',  platforms_uninfluenced[0], platforms_uninfluenced[1], platforms_uninfluenced[2], platforms_uninfluenced[3], \n",
    "                     platforms_uninfluenced[4], platforms_uninfluenced[5], platforms_uninfluenced[6], platforms_uninfluenced_total))\n",
    "    writer.writerow(('column totals', linkedin_total, twitter_total, insta_total, pin_total, snap_total, fb_total, tiktok_total, consumer_total))"
   ]
  },
  {
   "cell_type": "code",
   "execution_count": 259,
   "id": "a4cdaec9-e25f-4f2e-8305-e6e194ed7519",
   "metadata": {},
   "outputs": [
    {
     "data": {
      "text/html": [
       "<div>\n",
       "<style scoped>\n",
       "    .dataframe tbody tr th:only-of-type {\n",
       "        vertical-align: middle;\n",
       "    }\n",
       "\n",
       "    .dataframe tbody tr th {\n",
       "        vertical-align: top;\n",
       "    }\n",
       "\n",
       "    .dataframe thead th {\n",
       "        text-align: right;\n",
       "    }\n",
       "</style>\n",
       "<table border=\"1\" class=\"dataframe\">\n",
       "  <thead>\n",
       "    <tr style=\"text-align: right;\">\n",
       "      <th></th>\n",
       "      <th>LinkedIn</th>\n",
       "      <th>Twitter</th>\n",
       "      <th>Instagram</th>\n",
       "      <th>Pinterest</th>\n",
       "      <th>Snapchat</th>\n",
       "      <th>Facebook</th>\n",
       "      <th>TikTok</th>\n",
       "      <th>row totals</th>\n",
       "    </tr>\n",
       "  </thead>\n",
       "  <tbody>\n",
       "    <tr>\n",
       "      <th>influenced</th>\n",
       "      <td>18</td>\n",
       "      <td>28</td>\n",
       "      <td>98</td>\n",
       "      <td>23</td>\n",
       "      <td>15</td>\n",
       "      <td>61</td>\n",
       "      <td>43</td>\n",
       "      <td>286</td>\n",
       "    </tr>\n",
       "    <tr>\n",
       "      <th>not influenced</th>\n",
       "      <td>0</td>\n",
       "      <td>0</td>\n",
       "      <td>0</td>\n",
       "      <td>0</td>\n",
       "      <td>2</td>\n",
       "      <td>0</td>\n",
       "      <td>12</td>\n",
       "      <td>14</td>\n",
       "    </tr>\n",
       "    <tr>\n",
       "      <th>column totals</th>\n",
       "      <td>18</td>\n",
       "      <td>28</td>\n",
       "      <td>98</td>\n",
       "      <td>23</td>\n",
       "      <td>17</td>\n",
       "      <td>61</td>\n",
       "      <td>55</td>\n",
       "      <td>300</td>\n",
       "    </tr>\n",
       "  </tbody>\n",
       "</table>\n",
       "</div>"
      ],
      "text/plain": [
       "                LinkedIn  Twitter  Instagram  Pinterest  Snapchat  Facebook  \\\n",
       "influenced            18       28         98         23        15        61   \n",
       "not influenced         0        0          0          0         2         0   \n",
       "column totals         18       28         98         23        17        61   \n",
       "\n",
       "                TikTok  row totals  \n",
       "influenced          43         286  \n",
       "not influenced      12          14  \n",
       "column totals       55         300  "
      ]
     },
     "execution_count": 259,
     "metadata": {},
     "output_type": "execute_result"
    }
   ],
   "source": [
    "observed_edu_plot = pd.read_csv('observed_platforms_table.csv')\n",
    "observed_edu_plot"
   ]
  },
  {
   "cell_type": "code",
   "execution_count": 260,
   "id": "bc0f0cdd-3b1d-491b-8e5b-01c7703fa204",
   "metadata": {},
   "outputs": [
    {
     "data": {
      "image/png": "[encoded data removed]",
      "text/plain": [
       "<Figure size 1000x600 with 1 Axes>"
      ]
     },
     "metadata": {},
     "output_type": "display_data"
    }
   ],
   "source": [
    "platform_names = ('LinkedIn', 'Twitter', 'Instagram', 'Pinterest', 'Snapchat', 'Facebook', 'TikTok')\n",
    "\n",
    "df = pd.DataFrame({'height': platforms_influenced,\n",
    "                   'bars': platform_names})\n",
    "\n",
    "color = ['dodgerblue', 'red', 'blueviolet', 'forestgreen', 'orange', 'turquoise', 'hotpink']\n",
    "\n",
    "# Create bars\n",
    "plt.subplots(figsize =(10, 6))\n",
    "\n",
    "bar_container = plt.bar(df['bars'], df['height'], color=color)\n",
    "plt.bar_label(bar_container)\n",
    "\n",
    "plt.title('Platforms Used by Consumers Whose Purchases Were Influenced by Social Media')\n",
    "plt.xlabel('Social Media Platform', fontweight ='bold', fontsize = 12) \n",
    "plt.ylabel('# of Consumers', fontweight ='bold', fontsize = 12) \n",
    "# plt.xticks(rotation=35)\n",
    "\n",
    "# Show graph\n",
    "plt.show()"
   ]
  },
  {
   "cell_type": "markdown",
   "id": "20703f73-4d05-4501-9d21-bb07933d18a0",
   "metadata": {},
   "source": [
    "__Insights from Contingency Table & Bar Chart__:\n",
    "\n",
    "The top three social media platforms used by consumers who reported a purchase being influenced by social media are as follows:\n",
    "1. Instagram (98 consumers out of 286 aka ~34.27%)\n",
    "2. Facebook (61 consumers out of 286 aka ~21.33%)\n",
    "3. TikTok (43 consumers out of 286 aka ~15.03%)"
   ]
  },
  {
   "cell_type": "markdown",
   "id": "22038463-f87d-49f9-b8c4-099d18ee7ed8",
   "metadata": {},
   "source": [
    "## RQ3: Are there specific product categories where consumers are most likely to report that social media influenced their purchasing decisions?"
   ]
  },
  {
   "cell_type": "markdown",
   "id": "87d35d44-6a93-470d-a638-e26519aea86e",
   "metadata": {},
   "source": [
    "To try and answer this question, I will be analyzing the ``Product Category`` data column in the dataset.\n",
    "\n",
    "First, let's loop through the dataset and determine what product categories are present."
   ]
  },
  {
   "cell_type": "code",
   "execution_count": 261,
   "id": "21dc5c98-62ef-4058-8bcd-43d056d5f799",
   "metadata": {},
   "outputs": [
    {
     "name": "stdout",
     "output_type": "stream",
     "text": [
      "{'Fitness', 'Beauty', 'N/A', 'Home Decor', 'Electronics', 'Food', 'Fashion'}\n"
     ]
    }
   ],
   "source": [
    "category_set = set()\n",
    "\n",
    "for consumer in consumer_data:\n",
    "    category = consumer['Product Category']\n",
    "    \n",
    "    if category not in category_set:\n",
    "        category_set.add(category)\n",
    "    else:\n",
    "        pass\n",
    "\n",
    "print(category_set)"
   ]
  },
  {
   "cell_type": "markdown",
   "id": "771b1518-a28d-446f-bbaf-4402c00b4242",
   "metadata": {},
   "source": [
    "I will now calculate the counts for each combination of product category and social media influence on a purchase. "
   ]
  },
  {
   "cell_type": "code",
   "execution_count": 262,
   "id": "5090f2c3-061f-42ed-a699-e2fd2ad29f97",
   "metadata": {},
   "outputs": [],
   "source": [
    "def determine_category(category, arr):\n",
    "    if category == 'Food':\n",
    "        arr[0] = arr[0] + 1\n",
    "    elif category == 'Fashion':\n",
    "        arr[1] = arr[1] + 1\n",
    "    elif category == 'Fitness':\n",
    "        arr[2] = arr[2] + 1\n",
    "    elif category == 'Beauty':\n",
    "        arr[3] = arr[3] + 1\n",
    "    elif category == 'Electronics':\n",
    "        arr[4] = arr[4] + 1\n",
    "    elif category == 'Home Decor':\n",
    "        arr[5] = arr[5] + 1\n",
    "    else:\n",
    "        arr[6] = arr[6] + 1"
   ]
  },
  {
   "cell_type": "code",
   "execution_count": 263,
   "id": "a9ee6390-f099-4482-adae-aa21341faff6",
   "metadata": {},
   "outputs": [],
   "source": [
    "categories_influenced = [0, 0, 0, 0, 0, 0, 0] # food = index 1, fashion = index 2, fitness = index 3, beauty, electronics, home decor, N/A\n",
    "categories_uninfluenced = [0, 0, 0, 0, 0, 0, 0] # food = index 1, fashion = index 2, fitness = index 3, beauty, electronics, home decor, N/A\n",
    "\n",
    "for consumer in consumer_data:\n",
    "    if consumer['Purchase Decision'] == 'Yes':\n",
    "        determine_category(consumer['Product Category'], categories_influenced)\n",
    "    else: \n",
    "        determine_category(consumer['Product Category'], categories_uninfluenced)\n",
    "        pass\n",
    "\n",
    "# calculate row totals for table display\n",
    "categories_influenced_total = (categories_influenced[0] + categories_influenced[1] + categories_influenced[2] + categories_influenced[3] + \n",
    "                              categories_influenced[4] + categories_influenced[5] + categories_influenced[6])\n",
    "categories_uninfluenced_total = (categories_uninfluenced[0] + categories_uninfluenced[1] + categories_uninfluenced[2] + categories_uninfluenced[3] + \n",
    "                              categories_uninfluenced[4] + categories_uninfluenced[5] + categories_uninfluenced[6])\n",
    "\n",
    "# calculate column totals for table display\n",
    "food_total = categories_influenced[0] + categories_uninfluenced[0]\n",
    "fashion_total = categories_influenced[1] + categories_uninfluenced[1]\n",
    "fitness_total = categories_influenced[2] + categories_uninfluenced[2]\n",
    "beauty_total = categories_influenced[3] + categories_uninfluenced[3]\n",
    "electronics_total = categories_influenced[4] + categories_uninfluenced[4]\n",
    "home_decor_total = categories_influenced[5] + categories_uninfluenced[5]\n",
    "na_total = categories_influenced[6] + categories_uninfluenced[6]"
   ]
  },
  {
   "cell_type": "code",
   "execution_count": 264,
   "id": "5f9fb979-84ec-49d7-85dc-3d0efc05b177",
   "metadata": {},
   "outputs": [],
   "source": [
    "with open('observed_categories_table.csv', 'w', encoding='utf-8') as f:\n",
    "    writer = csv.writer(f)\n",
    "    \n",
    "    writer.writerow(('Food', 'Fashion', 'Fitness', 'Beauty', 'Electronics', 'Home Decor', 'N/A', 'row totals'))\n",
    "    \n",
    "    writer.writerow(('influenced', categories_influenced[0], categories_influenced[1], categories_influenced[2], categories_influenced[3], \n",
    "                     categories_influenced[4], categories_influenced[5], categories_influenced[6], platforms_influenced_total))\n",
    "    writer.writerow(('not influenced',  categories_uninfluenced[0], categories_uninfluenced[1], categories_uninfluenced[2], categories_uninfluenced[3], \n",
    "                     categories_uninfluenced[4], categories_uninfluenced[5], categories_uninfluenced[6], platforms_uninfluenced_total))\n",
    "    writer.writerow(('column totals', food_total, fashion_total, fitness_total, beauty_total, electronics_total, home_decor_total, na_total, consumer_total))"
   ]
  },
  {
   "cell_type": "code",
   "execution_count": 265,
   "id": "b9b57036-2c68-48ec-864c-8333b57a0c3e",
   "metadata": {},
   "outputs": [
    {
     "data": {
      "text/html": [
       "<div>\n",
       "<style scoped>\n",
       "    .dataframe tbody tr th:only-of-type {\n",
       "        vertical-align: middle;\n",
       "    }\n",
       "\n",
       "    .dataframe tbody tr th {\n",
       "        vertical-align: top;\n",
       "    }\n",
       "\n",
       "    .dataframe thead th {\n",
       "        text-align: right;\n",
       "    }\n",
       "</style>\n",
       "<table border=\"1\" class=\"dataframe\">\n",
       "  <thead>\n",
       "    <tr style=\"text-align: right;\">\n",
       "      <th></th>\n",
       "      <th>Food</th>\n",
       "      <th>Fashion</th>\n",
       "      <th>Fitness</th>\n",
       "      <th>Beauty</th>\n",
       "      <th>Electronics</th>\n",
       "      <th>Home Decor</th>\n",
       "      <th>N/A</th>\n",
       "      <th>row totals</th>\n",
       "    </tr>\n",
       "  </thead>\n",
       "  <tbody>\n",
       "    <tr>\n",
       "      <th>influenced</th>\n",
       "      <td>1</td>\n",
       "      <td>50</td>\n",
       "      <td>40</td>\n",
       "      <td>50</td>\n",
       "      <td>79</td>\n",
       "      <td>65</td>\n",
       "      <td>1</td>\n",
       "      <td>286</td>\n",
       "    </tr>\n",
       "    <tr>\n",
       "      <th>not influenced</th>\n",
       "      <td>0</td>\n",
       "      <td>0</td>\n",
       "      <td>0</td>\n",
       "      <td>0</td>\n",
       "      <td>0</td>\n",
       "      <td>0</td>\n",
       "      <td>14</td>\n",
       "      <td>14</td>\n",
       "    </tr>\n",
       "    <tr>\n",
       "      <th>column totals</th>\n",
       "      <td>1</td>\n",
       "      <td>50</td>\n",
       "      <td>40</td>\n",
       "      <td>50</td>\n",
       "      <td>79</td>\n",
       "      <td>65</td>\n",
       "      <td>15</td>\n",
       "      <td>300</td>\n",
       "    </tr>\n",
       "  </tbody>\n",
       "</table>\n",
       "</div>"
      ],
      "text/plain": [
       "                Food  Fashion  Fitness  Beauty  Electronics  Home Decor  N/A  \\\n",
       "influenced         1       50       40      50           79          65    1   \n",
       "not influenced     0        0        0       0            0           0   14   \n",
       "column totals      1       50       40      50           79          65   15   \n",
       "\n",
       "                row totals  \n",
       "influenced             286  \n",
       "not influenced          14  \n",
       "column totals          300  "
      ]
     },
     "execution_count": 265,
     "metadata": {},
     "output_type": "execute_result"
    }
   ],
   "source": [
    "observed_edu_plot = pd.read_csv('observed_categories_table.csv')\n",
    "observed_edu_plot"
   ]
  },
  {
   "cell_type": "code",
   "execution_count": 266,
   "id": "b12030da-e69f-480e-a356-5e38b87296dd",
   "metadata": {},
   "outputs": [
    {
     "data": {
      "image/png": "[encoded data removed]",
      "text/plain": [
       "<Figure size 1000x600 with 1 Axes>"
      ]
     },
     "metadata": {},
     "output_type": "display_data"
    }
   ],
   "source": [
    "category_names = ('Food', 'Fashion', 'Fitness', 'Beauty', 'Electronics', 'Home Decor', 'N/A')\n",
    "\n",
    "df = pd.DataFrame({'height': categories_influenced,\n",
    "                   'bars': category_names})\n",
    "\n",
    "color = ['dodgerblue', 'red', 'blueviolet', 'forestgreen', 'orange', 'turquoise', 'hotpink']\n",
    "\n",
    "# Create bars\n",
    "plt.subplots(figsize =(10, 6))\n",
    "\n",
    "bar_container = plt.bar(df['bars'], df['height'], color=color)\n",
    "plt.bar_label(bar_container)\n",
    "\n",
    "plt.title('Product Categories of Consumer Purchases Influenced by Social Media')\n",
    "plt.xlabel('Product Category', fontweight ='bold', fontsize = 12) \n",
    "plt.ylabel('# of Consumers', fontweight ='bold', fontsize = 12) \n",
    "# plt.xticks(rotation=35)\n",
    "\n",
    "# Show graph\n",
    "plt.show()"
   ]
  },
  {
   "cell_type": "markdown",
   "id": "1b23c688-2b63-48f9-bd4b-633e77093ea8",
   "metadata": {},
   "source": [
    "__Insights from contingency table and bar chart__:\n",
    "\n",
    "The top four product categories of consumers whose purchase was influenced by social media are as follows:\n",
    "1. Electronics (79 consumers out of 286 aka ~27.62%)\n",
    "2. Home Decor (65 consumers out of 286 aka ~22.72%)\n",
    "3. Fasion and Beauty (both 50 consumers out of 286 aka ~17.48%)"
   ]
  }
 ],
 "metadata": {
  "kernelspec": {
   "display_name": "Python 3 (ipykernel)",
   "language": "python",
   "name": "python3"
  },
  "language_info": {
   "codemirror_mode": {
    "name": "ipython",
    "version": 3
   },
   "file_extension": ".py",
   "mimetype": "text/x-python",
   "name": "python",
   "nbconvert_exporter": "python",
   "pygments_lexer": "ipython3",
   "version": "3.10.13"
  }
 },
 "nbformat": 4,
 "nbformat_minor": 5
}
